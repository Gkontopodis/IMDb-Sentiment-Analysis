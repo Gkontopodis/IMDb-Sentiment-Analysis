{
 "cells": [
  {
   "cell_type": "code",
   "execution_count": 44,
   "metadata": {},
   "outputs": [],
   "source": [
    "import pandas as pd\n",
    "from sklearn.feature_extraction.text import TfidfVectorizer\n",
    "from sklearn.linear_model import LogisticRegression\n",
    "from sklearn.metrics import classification_report\n",
    "\n",
    "# Train positive/negative\n",
    "train_pos=pd.read_csv('/home/c1969865/Downloads/AM_COurseWork/train/imdb_train_pos.txt', delimiter='\\n', names=['text'])\n",
    "train_neg=pd.read_csv('/home/c1969865/Downloads/AM_COurseWork/train/imdb_train_neg.txt', delimiter='\\n', names=['text'])\n",
    "train_pos['label']=1\n",
    "train_neg['label']=0\n",
    "train_pos_neg=pd.concat([train_pos,train_neg])\n",
    "train_shuf=train_pos_neg.sample(frac=1)\n",
    "\n",
    "# Developement positive/negative\n",
    "dev_pos=pd.read_csv('/home/c1969865/Downloads/AM_COurseWork/dev/imdb_dev_pos.txt', delimiter='\\n', names=['text'])\n",
    "dev_neg=pd.read_csv('/home/c1969865/Downloads/AM_COurseWork/dev/imdb_dev_neg.txt', delimiter='\\n', names=['text'])\n",
    "dev_pos['label']=1\n",
    "dev_neg['label']=0\n",
    "dev_pos_neg=pd.concat([dev_pos,dev_neg])\n",
    "dev_shuf=dev_pos_neg.sample(frac=1)\n",
    "\n",
    "# Test positive/negative\n",
    "test_pos=pd.read_csv('/home/c1969865/Downloads/AM_COurseWork/test/imdb_test_pos.txt', delimiter='\\n', names=['text'])\n",
    "test_neg=pd.read_csv('/home/c1969865/Downloads/AM_COurseWork/test/imdb_test_neg.txt', delimiter='\\n', names=['text'])\n",
    "test_pos['label']=1\n",
    "test_neg['label']=0\n",
    "test_pos_neg=pd.concat([test_pos,test_neg])\n",
    "test_shuf=test_pos_neg.sample(frac=1)"
   ]
  },
  {
   "cell_type": "code",
   "execution_count": 45,
   "metadata": {},
   "outputs": [],
   "source": [
    "train_x = train_shuf['text']\n",
    "train_y = train_shuf['label']\n",
    "dev_x = dev_shuf['text']\n",
    "dev_y = dev_shuf['label']\n",
    "test_x = dev_shuf['text']\n",
    "test_y = dev_shuf['label']\n",
    "\n",
    "tfidf = TfidfVectorizer(min_df=2, max_df=0.5, ngram_range=(1,2), stop_words='english')\n",
    "tfidf.fit(train_x,dev_x)\n",
    "tfidf.fit(test_x)\n",
    "\n",
    "train_x_tfidf = tfidf.transform(train_x)\n",
    "dev_x_tfidf = tfidf.transform(dev_x)\n",
    "test_x_tfidf = tfidf.transform(test_x)"
   ]
  },
  {
   "cell_type": "code",
   "execution_count": 46,
   "metadata": {},
   "outputs": [
    {
     "name": "stderr",
     "output_type": "stream",
     "text": [
      "/home/c1969865/.local/share/virtualenvs/Downloads-XR0j1WHd/lib/python3.6/site-packages/sklearn/linear_model/logistic.py:432: FutureWarning: Default solver will be changed to 'lbfgs' in 0.22. Specify a solver to silence this warning.\n",
      "  FutureWarning)\n"
     ]
    },
    {
     "data": {
      "text/plain": [
       "LogisticRegression(C=1.0, class_weight=None, dual=False, fit_intercept=True,\n",
       "                   intercept_scaling=1, l1_ratio=None, max_iter=100,\n",
       "                   multi_class='warn', n_jobs=None, penalty='l2',\n",
       "                   random_state=None, solver='warn', tol=0.0001, verbose=0,\n",
       "                   warm_start=False)"
      ]
     },
     "execution_count": 46,
     "metadata": {},
     "output_type": "execute_result"
    }
   ],
   "source": [
    "Model = LogisticRegression()\n",
    "Model.fit(train_x_tfidf, train_y)"
   ]
  },
  {
   "cell_type": "code",
   "execution_count": 47,
   "metadata": {},
   "outputs": [
    {
     "name": "stdout",
     "output_type": "stream",
     "text": [
      "              precision    recall  f1-score   support\n",
      "\n",
      "           0       0.90      0.87      0.88      2482\n",
      "           1       0.87      0.90      0.89      2518\n",
      "\n",
      "    accuracy                           0.89      5000\n",
      "   macro avg       0.89      0.89      0.89      5000\n",
      "weighted avg       0.89      0.89      0.89      5000\n",
      "\n"
     ]
    }
   ],
   "source": [
    "Predictions_dev = Model.predict(dev_x_tfidf)\n",
    "print(classification_report(dev_y,Predictions_dev))"
   ]
  },
  {
   "cell_type": "code",
   "execution_count": 48,
   "metadata": {},
   "outputs": [
    {
     "data": {
      "text/plain": [
       "0.8852"
      ]
     },
     "execution_count": 48,
     "metadata": {},
     "output_type": "execute_result"
    }
   ],
   "source": [
    "Model.score(dev_x_tfidf,dev_y)"
   ]
  },
  {
   "cell_type": "code",
   "execution_count": 8,
   "metadata": {},
   "outputs": [
    {
     "name": "stdout",
     "output_type": "stream",
     "text": [
      "              precision    recall  f1-score   support\n",
      "\n",
      "           0       0.90      0.87      0.88      2482\n",
      "           1       0.87      0.90      0.89      2518\n",
      "\n",
      "    accuracy                           0.89      5000\n",
      "   macro avg       0.89      0.89      0.89      5000\n",
      "weighted avg       0.89      0.89      0.89      5000\n",
      "\n"
     ]
    }
   ],
   "source": [
    "Predictions_test = Model.predict(test_x_tfidf)\n",
    "print(classification_report(test_y,Predictions_test))"
   ]
  },
  {
   "cell_type": "code",
   "execution_count": 9,
   "metadata": {},
   "outputs": [
    {
     "data": {
      "text/plain": [
       "0.8852"
      ]
     },
     "execution_count": 9,
     "metadata": {},
     "output_type": "execute_result"
    }
   ],
   "source": [
    "Model.score(test_x_tfidf,test_y)"
   ]
  },
  {
   "cell_type": "code",
   "execution_count": null,
   "metadata": {},
   "outputs": [],
   "source": []
  }
 ],
 "metadata": {
  "kernelspec": {
   "display_name": "Python 3",
   "language": "python",
   "name": "python3"
  },
  "language_info": {
   "codemirror_mode": {
    "name": "ipython",
    "version": 3
   },
   "file_extension": ".py",
   "mimetype": "text/x-python",
   "name": "python",
   "nbconvert_exporter": "python",
   "pygments_lexer": "ipython3",
   "version": "3.6.8"
  }
 },
 "nbformat": 4,
 "nbformat_minor": 2
}
